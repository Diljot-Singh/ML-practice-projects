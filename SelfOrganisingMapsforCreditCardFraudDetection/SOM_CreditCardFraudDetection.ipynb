{
  "nbformat": 4,
  "nbformat_minor": 0,
  "metadata": {
    "colab": {
      "name": "SOM_CreditCardFraudDetection.ipynb",
      "provenance": [],
      "collapsed_sections": [],
      "include_colab_link": true
    },
    "kernelspec": {
      "name": "python3",
      "display_name": "Python 3"
    }
  },
  "cells": [
    {
      "cell_type": "markdown",
      "metadata": {
        "id": "view-in-github",
        "colab_type": "text"
      },
      "source": [
        "<a href=\"https://colab.research.google.com/github/Diljot-Singh/ML-practice-projects/blob/main/SelfOrganisingMapsforCreditCardFraudDetection/SOM_CreditCardFraudDetection.ipynb\" target=\"_parent\"><img src=\"https://colab.research.google.com/assets/colab-badge.svg\" alt=\"Open In Colab\"/></a>"
      ]
    },
    {
      "cell_type": "markdown",
      "metadata": {
        "id": "GJYk9gRO_W9P"
      },
      "source": [
        "#Mega Case Study - Making a hybrid Deep Learning Model"
      ]
    },
    {
      "cell_type": "markdown",
      "metadata": {
        "id": "D8PA8C_X_fHe"
      },
      "source": [
        "#Part 1 - SOM"
      ]
    },
    {
      "cell_type": "markdown",
      "metadata": {
        "id": "48btSZ8cAAVt"
      },
      "source": [
        "##Install MiniSom Package"
      ]
    },
    {
      "cell_type": "code",
      "metadata": {
        "id": "5ueD5zlVAAVu",
        "colab": {
          "base_uri": "https://localhost:8080/"
        },
        "outputId": "5d5dd8d2-9348-403d-b597-73ea995fe485"
      },
      "source": [
        "!pip install MiniSom"
      ],
      "execution_count": null,
      "outputs": [
        {
          "output_type": "stream",
          "text": [
            "Requirement already satisfied: MiniSom in /usr/local/lib/python3.7/dist-packages (2.2.9)\n"
          ],
          "name": "stdout"
        }
      ]
    },
    {
      "cell_type": "markdown",
      "metadata": {
        "id": "y2L7M7QLAAVx"
      },
      "source": [
        "## Importing the libraries\n"
      ]
    },
    {
      "cell_type": "code",
      "metadata": {
        "id": "zy0_GMcbAAVx"
      },
      "source": [
        "import numpy as np\n",
        "import pandas as pd\n",
        "import matplotlib.pyplot as plt"
      ],
      "execution_count": null,
      "outputs": []
    },
    {
      "cell_type": "markdown",
      "metadata": {
        "id": "M74YAQUJAAVz"
      },
      "source": [
        "## Importing the dataset"
      ]
    },
    {
      "cell_type": "code",
      "metadata": {
        "id": "oP387iJvAAV0"
      },
      "source": [
        "dataset = pd.read_csv('Credit_Card_Applications.csv')\n",
        "X = dataset.iloc[:, :-1].values \n",
        "y = dataset.iloc[:, -1].values"
      ],
      "execution_count": null,
      "outputs": []
    },
    {
      "cell_type": "markdown",
      "metadata": {
        "id": "xaNRHZwYAAV2"
      },
      "source": [
        "## Feature Scaling\n"
      ]
    },
    {
      "cell_type": "code",
      "metadata": {
        "id": "57QK6WXTAAV3"
      },
      "source": [
        "from sklearn.preprocessing import MinMaxScaler\n",
        "sc = MinMaxScaler(feature_range = (0,1))\n",
        "X = sc.fit_transform(X)"
      ],
      "execution_count": null,
      "outputs": []
    },
    {
      "cell_type": "markdown",
      "metadata": {
        "id": "WyD5sEHYAAV5"
      },
      "source": [
        "##Training the SOM\n"
      ]
    },
    {
      "cell_type": "code",
      "metadata": {
        "id": "-BXn8YphAAV6"
      },
      "source": [
        "from minisom import MiniSom\n",
        "som = MiniSom(x=10, y=10, input_len= 15, sigma= 1.0, learning_rate = 0.5)\n",
        "som.random_weights_init(X)\n",
        "som.train_random(data = X, num_iteration = 100)"
      ],
      "execution_count": null,
      "outputs": []
    },
    {
      "cell_type": "markdown",
      "metadata": {
        "id": "d9qf8w7sAAV8"
      },
      "source": [
        "##Visualizing the results\n"
      ]
    },
    {
      "cell_type": "code",
      "metadata": {
        "id": "cshl06SmAAV8",
        "colab": {
          "base_uri": "https://localhost:8080/",
          "height": 269
        },
        "outputId": "59cb3d5c-b74a-466a-f24c-ef7ecf2191a3"
      },
      "source": [
        "from pylab import bone, pcolor, colorbar, plot, show\n",
        "bone()\n",
        "pcolor(som.distance_map().T)\n",
        "colorbar()\n",
        "markers = ['o', 's']\n",
        "colors = ['r', 'g']\n",
        "for i, x in enumerate(X):\n",
        "    w = som.winner(x)\n",
        "    plot(w[0] + 0.5,\n",
        "         w[1] + 0.5,\n",
        "         markers[y[i]],\n",
        "         markeredgecolor = colors[y[i]],\n",
        "         markerfacecolor = 'None',\n",
        "         markersize = 10,\n",
        "         markeredgewidth = 2)\n",
        "show()"
      ],
      "execution_count": null,
      "outputs": [
        {
          "output_type": "display_data",
          "data": {
            "image/png": "[encoded data removed]",
            "text/plain": [
              "<Figure size 432x288 with 2 Axes>"
            ]
          },
          "metadata": {
            "tags": [],
            "needs_background": "light"
          }
        }
      ]
    },
    {
      "cell_type": "markdown",
      "metadata": {
        "id": "gijZkcIGAAWA"
      },
      "source": [
        "## Finding the frauds\n"
      ]
    },
    {
      "cell_type": "code",
      "metadata": {
        "id": "EJIH9sDvAAWA"
      },
      "source": [
        "mappings = som.win_map(X)\n",
        "frauds = np.concatenate((mappings[(1,3)], mappings[(1,4)], mappings[(2,3)]), axis = 0)\n",
        "frauds = sc.inverse_transform(frauds)"
      ],
      "execution_count": null,
      "outputs": []
    },
    {
      "cell_type": "markdown",
      "metadata": {
        "id": "EOVO2DzCAAWD"
      },
      "source": [
        "##Printing the Fraunch Clients"
      ]
    },
    {
      "cell_type": "code",
      "metadata": {
        "id": "IjotUwR3AAWD",
        "colab": {
          "base_uri": "https://localhost:8080/"
        },
        "outputId": "dfa3e9f4-412f-4dc6-ce1f-73ea7eeac46c"
      },
      "source": [
        "print('Fraud Customer IDs')\n",
        "for i in frauds[:, 0]:\n",
        "  print(int(i))"
      ],
      "execution_count": null,
      "outputs": [
        {
          "output_type": "stream",
          "text": [
            "Fraud Customer IDs\n",
            "15598802\n",
            "15788776\n",
            "15767231\n",
            "15762716\n",
            "15768474\n",
            "15739548\n",
            "15783883\n",
            "15801473\n",
            "15728523\n",
            "15794204\n",
            "15734008\n",
            "15757434\n",
            "15737909\n",
            "15711299\n"
          ],
          "name": "stdout"
        }
      ]
    },
    {
      "cell_type": "markdown",
      "metadata": {
        "id": "-9oatjNmAC8i"
      },
      "source": [
        "#Part 2 - Going from Unsupervised to Supervised Deep Learning"
      ]
    },
    {
      "cell_type": "markdown",
      "metadata": {
        "id": "eDv-ecVtAtwU"
      },
      "source": [
        "##Create Matrix of Features"
      ]
    },
    {
      "cell_type": "code",
      "metadata": {
        "id": "h3ADq7HsA3Sh"
      },
      "source": [
        "customers = dataset.iloc[:, 1:].values"
      ],
      "execution_count": null,
      "outputs": []
    },
    {
      "cell_type": "markdown",
      "metadata": {
        "id": "ycrQvNAvBAng"
      },
      "source": [
        "## Create Dependent Variable"
      ]
    },
    {
      "cell_type": "code",
      "metadata": {
        "id": "Dt1TQG3NBFDM"
      },
      "source": [
        "is_fraud = np.zeros(len(dataset))\n",
        "for i in range(len(dataset)):\n",
        "  if dataset.iloc[i,0] in frauds:\n",
        "    is_fraud[i] = 1"
      ],
      "execution_count": null,
      "outputs": []
    },
    {
      "cell_type": "markdown",
      "metadata": {
        "id": "OgQBLi0iBsji"
      },
      "source": [
        "#Part 3 - ANN"
      ]
    },
    {
      "cell_type": "markdown",
      "metadata": {
        "id": "RE_FcHyfV3TQ"
      },
      "source": [
        "### Feature Scaling"
      ]
    },
    {
      "cell_type": "code",
      "metadata": {
        "id": "ViCrE00rV8Sk"
      },
      "source": [
        "from sklearn.preprocessing import StandardScaler\n",
        "sc = StandardScaler()\n",
        "customers = sc.fit_transform(customers)"
      ],
      "execution_count": null,
      "outputs": []
    },
    {
      "cell_type": "markdown",
      "metadata": {
        "id": "-zfEzkRVXIwF"
      },
      "source": [
        "## Building the ANN"
      ]
    },
    {
      "cell_type": "markdown",
      "metadata": {
        "id": "S5-uTVVvCcTf"
      },
      "source": [
        "##Import Tensorflow"
      ]
    },
    {
      "cell_type": "code",
      "metadata": {
        "id": "veBa6HoECbZI",
        "colab": {
          "base_uri": "https://localhost:8080/",
          "height": 35
        },
        "outputId": "1d4521c7-4d05-44ce-deaf-4f6e18cb5a3e"
      },
      "source": [
        "import tensorflow as tf\n",
        "tf.__version__"
      ],
      "execution_count": null,
      "outputs": [
        {
          "output_type": "execute_result",
          "data": {
            "application/vnd.google.colaboratory.intrinsic+json": {
              "type": "string"
            },
            "text/plain": [
              "'2.5.0'"
            ]
          },
          "metadata": {
            "tags": []
          },
          "execution_count": 19
        }
      ]
    },
    {
      "cell_type": "markdown",
      "metadata": {
        "id": "KvdeScabXtlB"
      },
      "source": [
        "## Initializing the ANN"
      ]
    },
    {
      "cell_type": "code",
      "metadata": {
        "id": "3dtrScHxXQox"
      },
      "source": [
        "ann = tf.keras.models.Sequential()"
      ],
      "execution_count": null,
      "outputs": []
    },
    {
      "cell_type": "markdown",
      "metadata": {
        "id": "rP6urV6SX7kS"
      },
      "source": [
        "##Adding the input layer and the first hidden layer"
      ]
    },
    {
      "cell_type": "code",
      "metadata": {
        "id": "bppGycBXYCQr"
      },
      "source": [
        "ann.add(tf.keras.layers.Dense(units=2, activation='relu'))"
      ],
      "execution_count": null,
      "outputs": []
    },
    {
      "cell_type": "markdown",
      "metadata": {
        "id": "OyNEe6RXYcU4"
      },
      "source": [
        "## Adding the output layer"
      ]
    },
    {
      "cell_type": "code",
      "metadata": {
        "id": "Cn3x41RBYfvY"
      },
      "source": [
        "ann.add(tf.keras.layers.Dense(units=1, activation='sigmoid'))"
      ],
      "execution_count": null,
      "outputs": []
    },
    {
      "cell_type": "markdown",
      "metadata": {
        "id": "JT4u2S1_Y4WG"
      },
      "source": [
        "## Training the ANN"
      ]
    },
    {
      "cell_type": "markdown",
      "metadata": {
        "id": "8GWlJChhY_ZI"
      },
      "source": [
        "## Compiling the ANN"
      ]
    },
    {
      "cell_type": "code",
      "metadata": {
        "id": "fG3RrwDXZEaS"
      },
      "source": [
        "ann.compile(optimizer = 'adam', loss = 'binary_crossentropy', metrics = ['accuracy'])"
      ],
      "execution_count": null,
      "outputs": []
    },
    {
      "cell_type": "markdown",
      "metadata": {
        "id": "0QR_G5u7ZLSM"
      },
      "source": [
        "## Training the ANN on the Training set"
      ]
    },
    {
      "cell_type": "code",
      "metadata": {
        "id": "nHZ-LKv_ZRb3",
        "colab": {
          "base_uri": "https://localhost:8080/"
        },
        "outputId": "9ab59440-2b55-4d01-c2ab-0d4c4deabe93"
      },
      "source": [
        "ann.fit(customers, is_fraud, batch_size = 1, epochs = 10)"
      ],
      "execution_count": null,
      "outputs": [
        {
          "output_type": "stream",
          "text": [
            "Epoch 1/10\n",
            "690/690 [==============================] - 1s 1ms/step - loss: 0.4421 - accuracy: 0.9551\n",
            "Epoch 2/10\n",
            "690/690 [==============================] - 1s 1ms/step - loss: 0.2759 - accuracy: 0.9797\n",
            "Epoch 3/10\n",
            "690/690 [==============================] - 1s 1ms/step - loss: 0.1759 - accuracy: 0.9797\n",
            "Epoch 4/10\n",
            "690/690 [==============================] - 1s 1ms/step - loss: 0.1355 - accuracy: 0.9797\n",
            "Epoch 5/10\n",
            "690/690 [==============================] - 1s 1ms/step - loss: 0.1181 - accuracy: 0.9797\n",
            "Epoch 6/10\n",
            "690/690 [==============================] - 1s 1ms/step - loss: 0.1074 - accuracy: 0.9797\n",
            "Epoch 7/10\n",
            "690/690 [==============================] - 1s 1ms/step - loss: 0.0997 - accuracy: 0.9797\n",
            "Epoch 8/10\n",
            "690/690 [==============================] - 1s 1ms/step - loss: 0.0937 - accuracy: 0.9797\n",
            "Epoch 9/10\n",
            "690/690 [==============================] - 1s 1ms/step - loss: 0.0892 - accuracy: 0.9797\n",
            "Epoch 10/10\n",
            "690/690 [==============================] - 1s 1ms/step - loss: 0.0852 - accuracy: 0.9797\n"
          ],
          "name": "stdout"
        },
        {
          "output_type": "execute_result",
          "data": {
            "text/plain": [
              "<tensorflow.python.keras.callbacks.History at 0x7fcebd085050>"
            ]
          },
          "metadata": {
            "tags": []
          },
          "execution_count": 24
        }
      ]
    },
    {
      "cell_type": "markdown",
      "metadata": {
        "id": "tJj5k2MxZga3"
      },
      "source": [
        "## Predicting test set results"
      ]
    },
    {
      "cell_type": "code",
      "metadata": {
        "id": "nIyEeQdRZwgs"
      },
      "source": [
        "y_pred = ann.predict(customers)\n",
        "y_pred = np.concatenate((dataset.iloc[:, 0:1].values, y_pred), axis = 1)\n",
        "y_pred = y_pred[y_pred[:, 1].argsort()]"
      ],
      "execution_count": null,
      "outputs": []
    },
    {
      "cell_type": "code",
      "metadata": {
        "id": "fX2iDXYiD-sN",
        "colab": {
          "base_uri": "https://localhost:8080/"
        },
        "outputId": "3bb8ad73-dbff-4586-e6ad-2cc02ae67a44"
      },
      "source": [
        "print(y_pred)"
      ],
      "execution_count": null,
      "outputs": [
        {
          "output_type": "stream",
          "text": [
            "[[1.57901130e+07 4.14945998e-06]\n",
            " [1.57997850e+07 4.25879953e-05]\n",
            " [1.57101380e+07 4.35606198e-05]\n",
            " ...\n",
            " [1.56471910e+07 1.89003766e-01]\n",
            " [1.56896920e+07 1.89003766e-01]\n",
            " [1.56465940e+07 1.89003766e-01]]\n"
          ],
          "name": "stdout"
        }
      ]
    }
  ]
}